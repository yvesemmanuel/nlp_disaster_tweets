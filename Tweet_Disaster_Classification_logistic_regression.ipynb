{
  "cells": [
    {
      "cell_type": "code",
      "execution_count": 1,
      "metadata": {
        "id": "ZQ5lVsvszLM7"
      },
      "outputs": [],
      "source": [
        "import pandas as pd\n",
        "import numpy as np\n",
        "import random"
      ]
    },
    {
      "cell_type": "code",
      "execution_count": 2,
      "metadata": {
        "id": "aQ4C5hyVRhc1"
      },
      "outputs": [],
      "source": [
        "np.random.seed(180)\n",
        "random.seed(180)"
      ]
    },
    {
      "cell_type": "markdown",
      "metadata": {
        "id": "_5p2c5VZTbec"
      },
      "source": [
        "#### [Natural Language Processing with Disaster Tweets Dataset](https://www.kaggle.com/competitions/nlp-getting-started/overview)"
      ]
    },
    {
      "cell_type": "code",
      "execution_count": 3,
      "metadata": {
        "id": "dKzgX3twzftu"
      },
      "outputs": [],
      "source": [
        "df_train = pd.read_csv(\"./data/train.csv\")\n",
        "df_test = pd.read_csv(\"./data/test.csv\")"
      ]
    },
    {
      "cell_type": "code",
      "execution_count": 4,
      "metadata": {
        "colab": {
          "base_uri": "https://localhost:8080/",
          "height": 206
        },
        "id": "L60EiS8FzivE",
        "outputId": "be5a1530-cd24-4ba7-a574-715749faf12d"
      },
      "outputs": [
        {
          "data": {
            "text/html": [
              "<div>\n",
              "<style scoped>\n",
              "    .dataframe tbody tr th:only-of-type {\n",
              "        vertical-align: middle;\n",
              "    }\n",
              "\n",
              "    .dataframe tbody tr th {\n",
              "        vertical-align: top;\n",
              "    }\n",
              "\n",
              "    .dataframe thead th {\n",
              "        text-align: right;\n",
              "    }\n",
              "</style>\n",
              "<table border=\"1\" class=\"dataframe\">\n",
              "  <thead>\n",
              "    <tr style=\"text-align: right;\">\n",
              "      <th></th>\n",
              "      <th>id</th>\n",
              "      <th>keyword</th>\n",
              "      <th>location</th>\n",
              "      <th>text</th>\n",
              "      <th>target</th>\n",
              "    </tr>\n",
              "  </thead>\n",
              "  <tbody>\n",
              "    <tr>\n",
              "      <th>0</th>\n",
              "      <td>1</td>\n",
              "      <td>NaN</td>\n",
              "      <td>NaN</td>\n",
              "      <td>Our Deeds are the Reason of this #earthquake M...</td>\n",
              "      <td>1</td>\n",
              "    </tr>\n",
              "    <tr>\n",
              "      <th>1</th>\n",
              "      <td>4</td>\n",
              "      <td>NaN</td>\n",
              "      <td>NaN</td>\n",
              "      <td>Forest fire near La Ronge Sask. Canada</td>\n",
              "      <td>1</td>\n",
              "    </tr>\n",
              "    <tr>\n",
              "      <th>2</th>\n",
              "      <td>5</td>\n",
              "      <td>NaN</td>\n",
              "      <td>NaN</td>\n",
              "      <td>All residents asked to 'shelter in place' are ...</td>\n",
              "      <td>1</td>\n",
              "    </tr>\n",
              "    <tr>\n",
              "      <th>3</th>\n",
              "      <td>6</td>\n",
              "      <td>NaN</td>\n",
              "      <td>NaN</td>\n",
              "      <td>13,000 people receive #wildfires evacuation or...</td>\n",
              "      <td>1</td>\n",
              "    </tr>\n",
              "    <tr>\n",
              "      <th>4</th>\n",
              "      <td>7</td>\n",
              "      <td>NaN</td>\n",
              "      <td>NaN</td>\n",
              "      <td>Just got sent this photo from Ruby #Alaska as ...</td>\n",
              "      <td>1</td>\n",
              "    </tr>\n",
              "  </tbody>\n",
              "</table>\n",
              "</div>"
            ],
            "text/plain": [
              "   id keyword location                                               text  \\\n",
              "0   1     NaN      NaN  Our Deeds are the Reason of this #earthquake M...   \n",
              "1   4     NaN      NaN             Forest fire near La Ronge Sask. Canada   \n",
              "2   5     NaN      NaN  All residents asked to 'shelter in place' are ...   \n",
              "3   6     NaN      NaN  13,000 people receive #wildfires evacuation or...   \n",
              "4   7     NaN      NaN  Just got sent this photo from Ruby #Alaska as ...   \n",
              "\n",
              "   target  \n",
              "0       1  \n",
              "1       1  \n",
              "2       1  \n",
              "3       1  \n",
              "4       1  "
            ]
          },
          "execution_count": 4,
          "metadata": {},
          "output_type": "execute_result"
        }
      ],
      "source": [
        "df_train.head()"
      ]
    },
    {
      "cell_type": "code",
      "execution_count": 5,
      "metadata": {},
      "outputs": [
        {
          "data": {
            "text/plain": [
              "target\n",
              "0    0.57034\n",
              "1    0.42966\n",
              "Name: proportion, dtype: float64"
            ]
          },
          "execution_count": 5,
          "metadata": {},
          "output_type": "execute_result"
        }
      ],
      "source": [
        "df_train[\"target\"].value_counts(normalize=True)"
      ]
    },
    {
      "cell_type": "code",
      "execution_count": 6,
      "metadata": {
        "id": "8rf5GcSSiZtR"
      },
      "outputs": [],
      "source": [
        "text_id = df_test[\"id\"].tolist()\n",
        "test_x = df_test[\"text\"].tolist()"
      ]
    },
    {
      "cell_type": "code",
      "execution_count": 7,
      "metadata": {
        "id": "AOGxw5h9fXNI"
      },
      "outputs": [],
      "source": [
        "df_0 = df_train[df_train[\"target\"] == 0][\"text\"].tolist()\n",
        "df_1 = df_train[df_train[\"target\"] == 1][\"text\"].tolist()\n",
        "\n",
        "train_x = df_0 + df_1\n",
        "train_y = [0]*len(df_0) + [1]*len(df_1)"
      ]
    },
    {
      "cell_type": "markdown",
      "metadata": {
        "id": "uHF1JkuxUQVm"
      },
      "source": [
        "##### **Pre-processing text methods**\n",
        "\n",
        "1. `process_tweet()`: cleans the text, tokenizes it into separate words, removes stopwords, and converts words to stems.\n",
        "\n",
        "2. `count_tweets()`: takes a list of tweets as input, `process_tweet()` all of them, and returns a dictionary.\n",
        "  * The key in the dictionary is a tuple containing the semmed word and its class label, e.g. (\"happi\",1).\n",
        "  * The value the number of times this word appears in the given collection of tweets (an integer)."
      ]
    },
    {
      "cell_type": "code",
      "execution_count": 8,
      "metadata": {
        "colab": {
          "base_uri": "https://localhost:8080/"
        },
        "id": "XetnvIdvMhBO",
        "outputId": "48abb73a-d18d-41ad-961e-8e83d751b8fc"
      },
      "outputs": [
        {
          "name": "stderr",
          "output_type": "stream",
          "text": [
            "[nltk_data] Downloading package stopwords to\n",
            "[nltk_data]     C:\\Users\\yveem\\AppData\\Roaming\\nltk_data...\n",
            "[nltk_data]   Package stopwords is already up-to-date!\n"
          ]
        },
        {
          "data": {
            "text/plain": [
              "True"
            ]
          },
          "execution_count": 8,
          "metadata": {},
          "output_type": "execute_result"
        }
      ],
      "source": [
        "import nltk\n",
        "nltk.download(\"stopwords\")"
      ]
    },
    {
      "cell_type": "code",
      "execution_count": 9,
      "metadata": {
        "id": "p2y-l2oaUrsq"
      },
      "outputs": [],
      "source": [
        "import re\n",
        "import string\n",
        "import numpy as np\n",
        "\n",
        "from nltk.corpus import stopwords\n",
        "from nltk.stem import PorterStemmer\n",
        "from nltk.tokenize import TweetTokenizer\n",
        "\n",
        "def process_tweet(tweet):\n",
        "    stemmer = PorterStemmer()\n",
        "    stopwords_english = stopwords.words(\"english\")\n",
        "    # remove stock market tickers like $GE\n",
        "    tweet = re.sub(r\"\\$\\w*\", \"\", tweet)\n",
        "    # remove old style retweet text \"RT\"\n",
        "    tweet = re.sub(r\"^RT[\\s]+\", \"\", tweet)\n",
        "    # remove hyperlinks\n",
        "    tweet = re.sub(r\"https?:\\/\\/.*[\\r\\n]*\", \"\", tweet)\n",
        "    # remove hashtags\n",
        "    # only removing the hash # sign from the word\n",
        "    tweet = re.sub(r\"#\", \"\", tweet)\n",
        "    # tokenize tweets\n",
        "    tokenizer = TweetTokenizer(preserve_case=False, strip_handles=True,\n",
        "                               reduce_len=True)\n",
        "    tweet_tokens = tokenizer.tokenize(tweet)\n",
        "\n",
        "    tweets_clean = []\n",
        "    for word in tweet_tokens:\n",
        "        if (word not in stopwords_english and word not in string.punctuation):\n",
        "            stem_word = stemmer.stem(word)\n",
        "            tweets_clean.append(stem_word)\n",
        "\n",
        "    return tweets_clean\n",
        "\n",
        "def lookup(freqs, word, label):\n",
        "    n = 0\n",
        "\n",
        "    pair = (word, label)\n",
        "    if (pair in freqs):\n",
        "        n = freqs[pair]\n",
        "\n",
        "    return n\n",
        "\n",
        "def count_tweets(tweets, ys):\n",
        "    result = {}\n",
        "    for y, tweet in zip(ys, tweets):\n",
        "        for word in process_tweet(tweet):\n",
        "            pair = (word,y)\n",
        "            if pair in result:\n",
        "                result[pair] += 1\n",
        "            else:\n",
        "                result[pair] = 1\n",
        "\n",
        "    return result"
      ]
    },
    {
      "cell_type": "code",
      "execution_count": 10,
      "metadata": {
        "colab": {
          "base_uri": "https://localhost:8080/"
        },
        "id": "J4c6IAfHUtWh",
        "outputId": "e750bffa-aef4-404d-9c2b-a63cb1b929f5"
      },
      "outputs": [
        {
          "data": {
            "text/plain": [
              "['wait',\n",
              " 'scene',\n",
              " '...',\n",
              " 'mass',\n",
              " 'exodu',\n",
              " 'settler',\n",
              " 'northern',\n",
              " 'occupi',\n",
              " 'palestin',\n",
              " 'left',\n",
              " 'home',\n",
              " 'burn',\n",
              " 'flee']"
            ]
          },
          "execution_count": 10,
          "metadata": {},
          "output_type": "execute_result"
        }
      ],
      "source": [
        "process_tweet(\"\"\"\n",
        "For those who have been waiting for this scene...\n",
        "\n",
        "Now, a mass exodus of settlers from northern occupied Palestine have left their homes burning and are fleeing.\n",
        "\"\"\")"
      ]
    },
    {
      "cell_type": "code",
      "execution_count": 11,
      "metadata": {
        "id": "iLhYEfAtRuJ8"
      },
      "outputs": [
        {
          "data": {
            "text/plain": [
              "{('happi', 1): 1, ('trick', 0): 1, ('sad', 0): 1, ('tire', 0): 2}"
            ]
          },
          "execution_count": 11,
          "metadata": {},
          "output_type": "execute_result"
        }
      ],
      "source": [
        "tweets = [\"i am happy\", \"i am tricked\", \"i am sad\", \"i am tired\", \"i am tired\"]\n",
        "ys = [1, 0, 0, 0, 0]\n",
        "count_tweets(tweets, ys)"
      ]
    },
    {
      "cell_type": "code",
      "execution_count": 12,
      "metadata": {},
      "outputs": [],
      "source": [
        "freqs = count_tweets(train_x, train_y)"
      ]
    },
    {
      "cell_type": "markdown",
      "metadata": {
        "id": "96QWuhhRVwrL"
      },
      "source": [
        "#### **Logistic Regression**\n",
        "\n",
        "1. **Sigmoid function**: It maps the input `z` to a value that ranges between 0 and 1, and so it can be treated as a probability.\n",
        "\n",
        "\n",
        "$$\n",
        "\\sigma(z) = \\frac{1}{1 + e^{-z}}\n",
        "$$\n",
        "\n",
        "2. **Cost function and Gradient**: the cost function used for logistic regression is the average of the log loss across all training examples.\n",
        "\n",
        "\n",
        "$$\n",
        "J(\\theta) = -\\frac{1}{m} \\sum_{i=1}^{m} \\left[ y^{(i)}\\log(h(z(\\theta)^{(i)})) + (1 - y^{(i)})\\log(1 - h(z(\\theta)^{(i)})) \\right]\n",
        "$$\n",
        "\n",
        "> $m$ is the number of training examples.\n",
        "\n",
        "> $y^{(i)}$ is the actual label of the i-th training example.\n",
        "\n",
        "> $h(z(\\theta)^{(i)})$ is the model's prediction for the i-th training example.\n",
        "\n",
        "3. **Loss function for a single training example**\n",
        "\n",
        "$$\n",
        "\\text{Loss}(\\theta; x, y) = -\\left[y^{(i)}\\log(h(z(\\theta)^{(i)})) + (1 - y^{(i)})\\log(1 - h(z(\\theta)^{(i)})) \\right]\n",
        "$$\n",
        "\n",
        "4. **Weight Update**: to update the weight vector, I will apply gradient descent to iteratively improve the model's predictions.\n",
        "\n",
        "$$\n",
        "\\theta_j = \\theta_j - \\alpha \\frac{1}{m} \\sum_{i=1}^{m} \\left( h(z(\\theta)^{(i)}) - y^{(i)} \\right)x_j\n",
        "$$"
      ]
    },
    {
      "cell_type": "code",
      "execution_count": 13,
      "metadata": {
        "id": "psD225aNVOK1"
      },
      "outputs": [],
      "source": [
        "def sigmoid(z):\n",
        "    h = 1 / (1 + np.exp(-z))\n",
        "    return h"
      ]
    },
    {
      "cell_type": "code",
      "execution_count": 14,
      "metadata": {
        "id": "wJZTm5eaWKa5"
      },
      "outputs": [],
      "source": [
        "def gradient_descent(x, y, theta, alpha, num_iters):\n",
        "    m, _ = x.shape\n",
        "    J_history = []\n",
        "\n",
        "    for _ in range(num_iters):\n",
        "        z = np.dot(x, theta)\n",
        "        h = sigmoid(z)\n",
        "        J = -1./m * (np.dot(y.transpose(), np.log(h)) + np.dot((1-y).transpose(), np.log(1-h)))\n",
        "        last_J = float(J.flatten()[0])\n",
        "        J_history.append(last_J)\n",
        "        theta = theta - (alpha/m) * np.dot(x.transpose(), (h - y))\n",
        "\n",
        "    return last_J, J_history, theta"
      ]
    },
    {
      "cell_type": "code",
      "execution_count": 15,
      "metadata": {
        "colab": {
          "base_uri": "https://localhost:8080/"
        },
        "id": "V48kflSqb11W",
        "outputId": "f140e0bc-7bfa-4059-db9b-25ed1496c6bd"
      },
      "outputs": [
        {
          "name": "stdout",
          "output_type": "stream",
          "text": [
            "The cost after training is 0.69189853.\n",
            "The resulting vector of weights is [np.float64(0.0), np.float64(3.09e-06), np.float64(-8.27e-06)]\n"
          ]
        }
      ],
      "source": [
        "tmp_X = np.append(np.ones((10, 1)), np.random.rand(10, 2) * 2000, axis=1)\n",
        "tmp_Y = (np.random.rand(10, 1) > 0.35).astype(float)\n",
        "\n",
        "tmp_J, tmp_J_history, tmp_theta = gradient_descent(tmp_X, tmp_Y, np.zeros((3, 1)), 1e-8, 5)\n",
        "print(f\"The cost after training is {tmp_J:.8f}.\")\n",
        "print(f\"The resulting vector of weights is {[round(t, 8) for t in np.squeeze(tmp_theta)]}\")"
      ]
    },
    {
      "cell_type": "code",
      "execution_count": 16,
      "metadata": {},
      "outputs": [],
      "source": [
        "import matplotlib.pyplot as plt\n",
        "\n",
        "def plot_error_history(J_hist):\n",
        "    plt.plot(range(len(J_hist)), J_hist, label='Error')\n",
        "    plt.xlabel('Iteration')\n",
        "    plt.ylabel('Cost J')\n",
        "    plt.title('Cost Function over Iterations')\n",
        "    plt.legend()\n",
        "    plt.show()"
      ]
    },
    {
      "cell_type": "code",
      "execution_count": 17,
      "metadata": {},
      "outputs": [
        {
          "data": {
            "image/png": "[encoded data removed]",
            "text/plain": [
              "<Figure size 640x480 with 1 Axes>"
            ]
          },
          "metadata": {},
          "output_type": "display_data"
        }
      ],
      "source": [
        "plot_error_history(tmp_J_history)"
      ]
    },
    {
      "cell_type": "markdown",
      "metadata": {
        "id": "qtVpdoNddLte"
      },
      "source": [
        "#### **Features Extractions**\n",
        "\n",
        "##### Given a list of tweets, let's extract the features and store them into a matrix. I'm gonna extract two features.\n",
        "  \n",
        "  * [0] the number of positive for disaster words in a tweet.\n",
        "  * [1] the number of negative for disaster words in a tweet."
      ]
    },
    {
      "cell_type": "code",
      "execution_count": 18,
      "metadata": {
        "id": "t4DqjeANdBpo"
      },
      "outputs": [],
      "source": [
        "def extract_features(tweet, freqs):\n",
        "    words = process_tweet(tweet)\n",
        "\n",
        "    x = np.zeros((1, 3))\n",
        "    x[0, 0] = 1 # bias\n",
        "\n",
        "    for word in words:\n",
        "        x[0, 1] += freqs.get((word, 1.0), 0)\n",
        "        x[0, 2] += freqs.get((word, 0.0), 0)\n",
        "\n",
        "    assert(x.shape == (1, 3)), \"Invalid feature shape.\"\n",
        "    return x"
      ]
    },
    {
      "cell_type": "code",
      "execution_count": 19,
      "metadata": {
        "colab": {
          "base_uri": "https://localhost:8080/"
        },
        "id": "1I6w8zKIe31k",
        "outputId": "c234a459-488e-485f-8274-c6627fbdf3ce"
      },
      "outputs": [],
      "source": [
        "X = np.zeros((len(train_x), 3))\n",
        "n = len(train_y)\n",
        "Y = np.array(train_y).reshape((n, 1))\n",
        "\n",
        "for i in range(len(train_x)):\n",
        "    X[i, :] = extract_features(train_x[i], freqs)"
      ]
    },
    {
      "cell_type": "code",
      "execution_count": 20,
      "metadata": {},
      "outputs": [
        {
          "name": "stderr",
          "output_type": "stream",
          "text": [
            "c:\\Users\\yveem\\.conda\\envs\\nlp\\lib\\site-packages\\tqdm\\auto.py:21: TqdmWarning: IProgress not found. Please update jupyter and ipywidgets. See https://ipywidgets.readthedocs.io/en/stable/user_install.html\n",
            "  from .autonotebook import tqdm as notebook_tqdm\n",
            "[I 2025-01-05 19:10:34,166] A new study created in memory with name: no-name-7b8519ea-6e40-4624-9887-6c8254aefdef\n",
            "C:\\Users\\yveem\\AppData\\Local\\Temp\\ipykernel_10020\\3338700869.py:8: RuntimeWarning: divide by zero encountered in log\n",
            "  J = -1./m * (np.dot(y.transpose(), np.log(h)) + np.dot((1-y).transpose(), np.log(1-h)))\n",
            "[W 2025-01-05 19:10:34,262] Trial 0 failed with parameters: {'alpha': 0.0004058903384422454, 'num_iters': 400} because of the following error: The value nan is not acceptable.\n",
            "[W 2025-01-05 19:10:34,263] Trial 0 failed with value nan.\n",
            "[I 2025-01-05 19:10:34,400] Trial 1 finished with value: 0.6926360231772346 and parameters: {'alpha': 5.351127493619601e-10, 'num_iters': 700}. Best is trial 1 with value: 0.6926360231772346.\n",
            "[I 2025-01-05 19:10:34,440] Trial 2 finished with value: 0.6917451988749737 and parameters: {'alpha': 5.176627743096489e-09, 'num_iters': 200}. Best is trial 2 with value: 0.6917451988749737.\n",
            "[I 2025-01-05 19:10:34,888] Trial 3 finished with value: 0.6916089911929417 and parameters: {'alpha': 5.143061414661118e-10, 'num_iters': 2200}. Best is trial 3 with value: 0.6916089911929417.\n",
            "[I 2025-01-05 19:10:35,255] Trial 4 finished with value: 0.521086099924267 and parameters: {'alpha': 2.565829719359521e-06, 'num_iters': 1800}. Best is trial 4 with value: 0.521086099924267.\n",
            "[I 2025-01-05 19:10:35,482] Trial 5 finished with value: 0.6840859160071174 and parameters: {'alpha': 6.270559571799002e-09, 'num_iters': 1100}. Best is trial 4 with value: 0.521086099924267.\n",
            "[I 2025-01-05 19:10:36,256] Trial 6 finished with value: 0.5219437105903774 and parameters: {'alpha': 3.53707824807621e-07, 'num_iters': 4000}. Best is trial 4 with value: 0.521086099924267.\n",
            "[I 2025-01-05 19:10:36,656] Trial 7 finished with value: 0.6928280334409358 and parameters: {'alpha': 1.1116231051404122e-10, 'num_iters': 2100}. Best is trial 4 with value: 0.521086099924267.\n",
            "[I 2025-01-05 19:10:37,619] Trial 8 finished with value: 0.6918319579997966 and parameters: {'alpha': 1.9324411321138284e-10, 'num_iters': 5000}. Best is trial 4 with value: 0.521086099924267.\n",
            "[I 2025-01-05 19:10:37,653] Trial 9 finished with value: 0.5886401984608594 and parameters: {'alpha': 1.4135824846137483e-06, 'num_iters': 100}. Best is trial 4 with value: 0.521086099924267.\n",
            "[I 2025-01-05 19:10:37,696] Trial 10 finished with value: 0.6925934533580413 and parameters: {'alpha': 4.093641647308512e-09, 'num_iters': 100}. Best is trial 4 with value: 0.521086099924267.\n",
            "[W 2025-01-05 19:10:38,456] Trial 11 failed with parameters: {'alpha': 0.00018346953710410583, 'num_iters': 3300} because of the following error: The value nan is not acceptable.\n",
            "[W 2025-01-05 19:10:38,458] Trial 11 failed with value nan.\n",
            "[W 2025-01-05 19:10:39,265] Trial 12 failed with parameters: {'alpha': 0.00024008585103384836, 'num_iters': 3500} because of the following error: The value nan is not acceptable.\n",
            "[W 2025-01-05 19:10:39,266] Trial 12 failed with value nan.\n",
            "[W 2025-01-05 19:10:39,947] Trial 13 failed with parameters: {'alpha': 0.00022006039969521885, 'num_iters': 3100} because of the following error: The value nan is not acceptable.\n",
            "[W 2025-01-05 19:10:39,948] Trial 13 failed with value nan.\n",
            "[W 2025-01-05 19:10:40,735] Trial 14 failed with parameters: {'alpha': 0.00019670035007271437, 'num_iters': 3300} because of the following error: The value nan is not acceptable.\n",
            "[W 2025-01-05 19:10:40,735] Trial 14 failed with value nan.\n",
            "[W 2025-01-05 19:10:41,473] Trial 15 failed with parameters: {'alpha': 0.0003599000436056119, 'num_iters': 3200} because of the following error: The value nan is not acceptable.\n",
            "[W 2025-01-05 19:10:41,473] Trial 15 failed with value nan.\n",
            "[W 2025-01-05 19:10:42,209] Trial 16 failed with parameters: {'alpha': 0.0001421159620888517, 'num_iters': 3200} because of the following error: The value nan is not acceptable.\n",
            "[W 2025-01-05 19:10:42,209] Trial 16 failed with value nan.\n",
            "[W 2025-01-05 19:10:42,940] Trial 17 failed with parameters: {'alpha': 0.0002702805681720518, 'num_iters': 3200} because of the following error: The value nan is not acceptable.\n",
            "[W 2025-01-05 19:10:42,940] Trial 17 failed with value nan.\n",
            "[W 2025-01-05 19:10:43,638] Trial 18 failed with parameters: {'alpha': 0.00015765959472509587, 'num_iters': 3200} because of the following error: The value nan is not acceptable.\n",
            "[W 2025-01-05 19:10:43,638] Trial 18 failed with value nan.\n",
            "[W 2025-01-05 19:10:44,327] Trial 19 failed with parameters: {'alpha': 0.00018914160260288354, 'num_iters': 3100} because of the following error: The value nan is not acceptable.\n",
            "[W 2025-01-05 19:10:44,328] Trial 19 failed with value nan.\n",
            "[W 2025-01-05 19:10:45,095] Trial 20 failed with parameters: {'alpha': 0.00018263931765958165, 'num_iters': 3100} because of the following error: The value nan is not acceptable.\n",
            "[W 2025-01-05 19:10:45,095] Trial 20 failed with value nan.\n",
            "[W 2025-01-05 19:10:45,881] Trial 21 failed with parameters: {'alpha': 0.00019756539392935628, 'num_iters': 3200} because of the following error: The value nan is not acceptable.\n",
            "[W 2025-01-05 19:10:45,881] Trial 21 failed with value nan.\n",
            "[W 2025-01-05 19:10:46,639] Trial 22 failed with parameters: {'alpha': 0.00019324931869589955, 'num_iters': 3300} because of the following error: The value nan is not acceptable.\n",
            "[W 2025-01-05 19:10:46,639] Trial 22 failed with value nan.\n",
            "[W 2025-01-05 19:10:47,323] Trial 23 failed with parameters: {'alpha': 0.0002407927282373953, 'num_iters': 2900} because of the following error: The value nan is not acceptable.\n",
            "[W 2025-01-05 19:10:47,323] Trial 23 failed with value nan.\n",
            "[W 2025-01-05 19:10:48,143] Trial 24 failed with parameters: {'alpha': 0.0003171655771831174, 'num_iters': 3200} because of the following error: The value nan is not acceptable.\n",
            "[W 2025-01-05 19:10:48,144] Trial 24 failed with value nan.\n",
            "[W 2025-01-05 19:10:48,908] Trial 25 failed with parameters: {'alpha': 0.00015198062010657787, 'num_iters': 3200} because of the following error: The value nan is not acceptable.\n",
            "[W 2025-01-05 19:10:48,909] Trial 25 failed with value nan.\n",
            "[W 2025-01-05 19:10:49,675] Trial 26 failed with parameters: {'alpha': 0.0001497871127168713, 'num_iters': 3200} because of the following error: The value nan is not acceptable.\n",
            "[W 2025-01-05 19:10:49,675] Trial 26 failed with value nan.\n",
            "[W 2025-01-05 19:10:50,538] Trial 27 failed with parameters: {'alpha': 0.00019969597742259987, 'num_iters': 3300} because of the following error: The value nan is not acceptable.\n",
            "[W 2025-01-05 19:10:50,538] Trial 27 failed with value nan.\n",
            "[W 2025-01-05 19:10:51,249] Trial 28 failed with parameters: {'alpha': 0.00014610217011932312, 'num_iters': 3200} because of the following error: The value nan is not acceptable.\n",
            "[W 2025-01-05 19:10:51,249] Trial 28 failed with value nan.\n",
            "[W 2025-01-05 19:10:52,019] Trial 29 failed with parameters: {'alpha': 0.00025994396675222645, 'num_iters': 3300} because of the following error: The value nan is not acceptable.\n",
            "[W 2025-01-05 19:10:52,020] Trial 29 failed with value nan.\n",
            "[W 2025-01-05 19:10:52,759] Trial 30 failed with parameters: {'alpha': 0.00021912765666587646, 'num_iters': 3200} because of the following error: The value nan is not acceptable.\n",
            "[W 2025-01-05 19:10:52,760] Trial 30 failed with value nan.\n",
            "[W 2025-01-05 19:10:53,598] Trial 31 failed with parameters: {'alpha': 0.00043604235007389347, 'num_iters': 3300} because of the following error: The value nan is not acceptable.\n",
            "[W 2025-01-05 19:10:53,599] Trial 31 failed with value nan.\n",
            "[W 2025-01-05 19:10:54,248] Trial 32 failed with parameters: {'alpha': 0.00016307430155562642, 'num_iters': 2900} because of the following error: The value nan is not acceptable.\n",
            "[W 2025-01-05 19:10:54,249] Trial 32 failed with value nan.\n",
            "[W 2025-01-05 19:10:55,037] Trial 33 failed with parameters: {'alpha': 0.00020061189156661533, 'num_iters': 3400} because of the following error: The value nan is not acceptable.\n",
            "[W 2025-01-05 19:10:55,037] Trial 33 failed with value nan.\n",
            "[W 2025-01-05 19:10:55,843] Trial 34 failed with parameters: {'alpha': 0.0008665113599948571, 'num_iters': 3000} because of the following error: The value nan is not acceptable.\n",
            "[W 2025-01-05 19:10:55,844] Trial 34 failed with value nan.\n",
            "[W 2025-01-05 19:10:56,634] Trial 35 failed with parameters: {'alpha': 0.00020155680497355887, 'num_iters': 3200} because of the following error: The value nan is not acceptable.\n",
            "[W 2025-01-05 19:10:56,635] Trial 35 failed with value nan.\n",
            "[W 2025-01-05 19:10:57,450] Trial 36 failed with parameters: {'alpha': 0.0001846294414708377, 'num_iters': 3500} because of the following error: The value nan is not acceptable.\n",
            "[W 2025-01-05 19:10:57,451] Trial 36 failed with value nan.\n",
            "[W 2025-01-05 19:10:58,128] Trial 37 failed with parameters: {'alpha': 0.000217913965326015, 'num_iters': 3000} because of the following error: The value nan is not acceptable.\n",
            "[W 2025-01-05 19:10:58,129] Trial 37 failed with value nan.\n",
            "[W 2025-01-05 19:10:58,834] Trial 38 failed with parameters: {'alpha': 0.00022992756667236975, 'num_iters': 3100} because of the following error: The value nan is not acceptable.\n",
            "[W 2025-01-05 19:10:58,835] Trial 38 failed with value nan.\n",
            "[W 2025-01-05 19:10:59,540] Trial 39 failed with parameters: {'alpha': 0.00020647928660316126, 'num_iters': 3200} because of the following error: The value nan is not acceptable.\n",
            "[W 2025-01-05 19:10:59,541] Trial 39 failed with value nan.\n",
            "[W 2025-01-05 19:11:00,374] Trial 40 failed with parameters: {'alpha': 0.00016748491163546945, 'num_iters': 3400} because of the following error: The value nan is not acceptable.\n",
            "[W 2025-01-05 19:11:00,375] Trial 40 failed with value nan.\n",
            "[W 2025-01-05 19:11:01,238] Trial 41 failed with parameters: {'alpha': 0.0003121241723729657, 'num_iters': 3200} because of the following error: The value nan is not acceptable.\n",
            "[W 2025-01-05 19:11:01,239] Trial 41 failed with value nan.\n",
            "[W 2025-01-05 19:11:01,970] Trial 42 failed with parameters: {'alpha': 0.00025604858189667406, 'num_iters': 3200} because of the following error: The value nan is not acceptable.\n",
            "[W 2025-01-05 19:11:01,971] Trial 42 failed with value nan.\n",
            "[W 2025-01-05 19:11:02,799] Trial 43 failed with parameters: {'alpha': 0.00012373381527327763, 'num_iters': 3200} because of the following error: The value nan is not acceptable.\n",
            "[W 2025-01-05 19:11:02,801] Trial 43 failed with value nan.\n",
            "[W 2025-01-05 19:11:03,484] Trial 44 failed with parameters: {'alpha': 0.00019715434017319772, 'num_iters': 3000} because of the following error: The value nan is not acceptable.\n",
            "[W 2025-01-05 19:11:03,486] Trial 44 failed with value nan.\n",
            "[W 2025-01-05 19:11:04,279] Trial 45 failed with parameters: {'alpha': 0.0001690069698656694, 'num_iters': 3500} because of the following error: The value nan is not acceptable.\n",
            "[W 2025-01-05 19:11:04,279] Trial 45 failed with value nan.\n",
            "[I 2025-01-05 19:11:05,024] Trial 46 finished with value: 0.5625864248949544 and parameters: {'alpha': 4.9487999164949904e-05, 'num_iters': 3100}. Best is trial 4 with value: 0.521086099924267.\n",
            "[I 2025-01-05 19:11:05,989] Trial 47 finished with value: 0.521086843247995 and parameters: {'alpha': 1.0788923845230764e-06, 'num_iters': 3900}. Best is trial 4 with value: 0.521086099924267.\n",
            "[I 2025-01-05 19:11:06,781] Trial 48 finished with value: 0.521060336571484 and parameters: {'alpha': 1.2888284051620327e-05, 'num_iters': 3100}. Best is trial 48 with value: 0.521060336571484.\n",
            "[W 2025-01-05 19:11:07,308] Trial 49 failed with parameters: {'alpha': 0.00017819374902776586, 'num_iters': 1600} because of the following error: The value nan is not acceptable.\n",
            "[W 2025-01-05 19:11:07,309] Trial 49 failed with value nan.\n",
            "[W 2025-01-05 19:11:07,702] Trial 50 failed with parameters: {'alpha': 0.00013260078703133596, 'num_iters': 1500} because of the following error: The value nan is not acceptable.\n",
            "[W 2025-01-05 19:11:07,703] Trial 50 failed with value nan.\n",
            "[W 2025-01-05 19:11:08,107] Trial 51 failed with parameters: {'alpha': 9.563421199556384e-05, 'num_iters': 1700} because of the following error: The value nan is not acceptable.\n",
            "[W 2025-01-05 19:11:08,109] Trial 51 failed with value nan.\n",
            "[W 2025-01-05 19:11:08,514] Trial 52 failed with parameters: {'alpha': 0.00010179208814378753, 'num_iters': 1700} because of the following error: The value nan is not acceptable.\n",
            "[W 2025-01-05 19:11:08,515] Trial 52 failed with value nan.\n",
            "[I 2025-01-05 19:11:08,903] Trial 53 finished with value: inf and parameters: {'alpha': 7.794360684647277e-05, 'num_iters': 1600}. Best is trial 48 with value: 0.521060336571484.\n",
            "[I 2025-01-05 19:11:09,602] Trial 54 finished with value: 0.5210684693988392 and parameters: {'alpha': 9.55588309630956e-06, 'num_iters': 3000}. Best is trial 48 with value: 0.521060336571484.\n",
            "[W 2025-01-05 19:11:10,418] Trial 55 failed with parameters: {'alpha': 0.0007041404515664855, 'num_iters': 3100} because of the following error: The value nan is not acceptable.\n",
            "[W 2025-01-05 19:11:10,418] Trial 55 failed with value nan.\n",
            "[W 2025-01-05 19:11:11,309] Trial 56 failed with parameters: {'alpha': 0.0008241038931882505, 'num_iters': 3000} because of the following error: The value nan is not acceptable.\n",
            "[W 2025-01-05 19:11:11,310] Trial 56 failed with value nan.\n",
            "[W 2025-01-05 19:11:12,357] Trial 57 failed with parameters: {'alpha': 0.000990302621413916, 'num_iters': 3100} because of the following error: The value nan is not acceptable.\n",
            "[W 2025-01-05 19:11:12,358] Trial 57 failed with value nan.\n",
            "[W 2025-01-05 19:11:13,159] Trial 58 failed with parameters: {'alpha': 0.0005110984073030605, 'num_iters': 3100} because of the following error: The value nan is not acceptable.\n",
            "[W 2025-01-05 19:11:13,160] Trial 58 failed with value nan.\n",
            "[W 2025-01-05 19:11:13,936] Trial 59 failed with parameters: {'alpha': 0.000509118260649383, 'num_iters': 3100} because of the following error: The value nan is not acceptable.\n",
            "[W 2025-01-05 19:11:13,937] Trial 59 failed with value nan.\n",
            "[W 2025-01-05 19:11:14,737] Trial 60 failed with parameters: {'alpha': 0.0006943970750403287, 'num_iters': 3100} because of the following error: The value nan is not acceptable.\n",
            "[W 2025-01-05 19:11:14,738] Trial 60 failed with value nan.\n",
            "[I 2025-01-05 19:11:15,375] Trial 61 finished with value: 0.521059182360878 and parameters: {'alpha': 1.3852582629760839e-05, 'num_iters': 3000}. Best is trial 61 with value: 0.521059182360878.\n",
            "[W 2025-01-05 19:11:16,113] Trial 62 failed with parameters: {'alpha': 0.0008443090729461775, 'num_iters': 2900} because of the following error: The value nan is not acceptable.\n",
            "[W 2025-01-05 19:11:16,113] Trial 62 failed with value nan.\n",
            "[W 2025-01-05 19:11:17,112] Trial 63 failed with parameters: {'alpha': 0.00047958170965814115, 'num_iters': 3600} because of the following error: The value nan is not acceptable.\n",
            "[W 2025-01-05 19:11:17,113] Trial 63 failed with value nan.\n",
            "[W 2025-01-05 19:11:18,235] Trial 64 failed with parameters: {'alpha': 0.0006121503864598112, 'num_iters': 3600} because of the following error: The value nan is not acceptable.\n",
            "[W 2025-01-05 19:11:18,238] Trial 64 failed with value nan.\n",
            "[W 2025-01-05 19:11:19,038] Trial 65 failed with parameters: {'alpha': 0.0007376545920835064, 'num_iters': 2900} because of the following error: The value nan is not acceptable.\n",
            "[W 2025-01-05 19:11:19,039] Trial 65 failed with value nan.\n",
            "[W 2025-01-05 19:11:19,829] Trial 66 failed with parameters: {'alpha': 0.0005550032599309719, 'num_iters': 3000} because of the following error: The value nan is not acceptable.\n",
            "[W 2025-01-05 19:11:19,829] Trial 66 failed with value nan.\n",
            "[W 2025-01-05 19:11:20,985] Trial 67 failed with parameters: {'alpha': 0.0008927791129245079, 'num_iters': 3800} because of the following error: The value nan is not acceptable.\n",
            "[W 2025-01-05 19:11:20,986] Trial 67 failed with value nan.\n",
            "[W 2025-01-05 19:11:21,969] Trial 68 failed with parameters: {'alpha': 0.0004558890077344957, 'num_iters': 3600} because of the following error: The value nan is not acceptable.\n",
            "[W 2025-01-05 19:11:21,970] Trial 68 failed with value nan.\n",
            "[W 2025-01-05 19:11:22,997] Trial 69 failed with parameters: {'alpha': 0.0009961806187485118, 'num_iters': 3000} because of the following error: The value nan is not acceptable.\n",
            "[W 2025-01-05 19:11:22,998] Trial 69 failed with value nan.\n",
            "[W 2025-01-05 19:11:23,749] Trial 70 failed with parameters: {'alpha': 0.0005014901949609166, 'num_iters': 3000} because of the following error: The value nan is not acceptable.\n",
            "[W 2025-01-05 19:11:23,750] Trial 70 failed with value nan.\n",
            "[W 2025-01-05 19:11:24,550] Trial 71 failed with parameters: {'alpha': 0.0008735985462981822, 'num_iters': 3000} because of the following error: The value nan is not acceptable.\n",
            "[W 2025-01-05 19:11:24,551] Trial 71 failed with value nan.\n",
            "[W 2025-01-05 19:11:25,442] Trial 72 failed with parameters: {'alpha': 0.0005260326884597485, 'num_iters': 3600} because of the following error: The value nan is not acceptable.\n",
            "[W 2025-01-05 19:11:25,443] Trial 72 failed with value nan.\n",
            "[W 2025-01-05 19:11:26,280] Trial 73 failed with parameters: {'alpha': 0.00030958921003189556, 'num_iters': 3600} because of the following error: The value nan is not acceptable.\n",
            "[W 2025-01-05 19:11:26,280] Trial 73 failed with value nan.\n",
            "[W 2025-01-05 19:11:27,178] Trial 74 failed with parameters: {'alpha': 0.0008699207726820494, 'num_iters': 3500} because of the following error: The value nan is not acceptable.\n",
            "[W 2025-01-05 19:11:27,179] Trial 74 failed with value nan.\n",
            "[W 2025-01-05 19:11:27,873] Trial 75 failed with parameters: {'alpha': 0.00020804555084502673, 'num_iters': 3000} because of the following error: The value nan is not acceptable.\n",
            "[W 2025-01-05 19:11:27,874] Trial 75 failed with value nan.\n",
            "[I 2025-01-05 19:11:28,607] Trial 76 finished with value: 0.5600827082393307 and parameters: {'alpha': 6.879149451219832e-08, 'num_iters': 3600}. Best is trial 61 with value: 0.521059182360878.\n",
            "[W 2025-01-05 19:11:29,691] Trial 77 failed with parameters: {'alpha': 0.0003355150252760526, 'num_iters': 4700} because of the following error: The value nan is not acceptable.\n",
            "[W 2025-01-05 19:11:29,691] Trial 77 failed with value nan.\n",
            "[W 2025-01-05 19:11:30,891] Trial 78 failed with parameters: {'alpha': 0.0006050215181390238, 'num_iters': 4600} because of the following error: The value nan is not acceptable.\n",
            "[W 2025-01-05 19:11:30,892] Trial 78 failed with value nan.\n",
            "[W 2025-01-05 19:11:32,109] Trial 79 failed with parameters: {'alpha': 0.0007787194768263243, 'num_iters': 4600} because of the following error: The value nan is not acceptable.\n",
            "[W 2025-01-05 19:11:32,110] Trial 79 failed with value nan.\n",
            "[W 2025-01-05 19:11:33,277] Trial 80 failed with parameters: {'alpha': 0.0006776050935080912, 'num_iters': 4600} because of the following error: The value nan is not acceptable.\n",
            "[W 2025-01-05 19:11:33,278] Trial 80 failed with value nan.\n",
            "[W 2025-01-05 19:11:34,362] Trial 81 failed with parameters: {'alpha': 0.000371437684090397, 'num_iters': 4700} because of the following error: The value nan is not acceptable.\n",
            "[W 2025-01-05 19:11:34,362] Trial 81 failed with value nan.\n",
            "[W 2025-01-05 19:11:35,217] Trial 82 failed with parameters: {'alpha': 0.0009794668145303, 'num_iters': 2900} because of the following error: The value nan is not acceptable.\n",
            "[W 2025-01-05 19:11:35,217] Trial 82 failed with value nan.\n",
            "[W 2025-01-05 19:11:35,934] Trial 83 failed with parameters: {'alpha': 0.00020001597154942064, 'num_iters': 2900} because of the following error: The value nan is not acceptable.\n",
            "[W 2025-01-05 19:11:35,935] Trial 83 failed with value nan.\n",
            "[W 2025-01-05 19:11:36,636] Trial 84 failed with parameters: {'alpha': 0.0009333101371964005, 'num_iters': 2700} because of the following error: The value nan is not acceptable.\n",
            "[W 2025-01-05 19:11:36,637] Trial 84 failed with value nan.\n",
            "[W 2025-01-05 19:11:37,892] Trial 85 failed with parameters: {'alpha': 0.0007177357076324951, 'num_iters': 4600} because of the following error: The value nan is not acceptable.\n",
            "[W 2025-01-05 19:11:37,893] Trial 85 failed with value nan.\n",
            "[W 2025-01-05 19:11:39,047] Trial 86 failed with parameters: {'alpha': 0.000607778273327037, 'num_iters': 4600} because of the following error: The value nan is not acceptable.\n",
            "[W 2025-01-05 19:11:39,049] Trial 86 failed with value nan.\n",
            "[W 2025-01-05 19:11:39,851] Trial 87 failed with parameters: {'alpha': 0.0009813346545186105, 'num_iters': 2800} because of the following error: The value nan is not acceptable.\n",
            "[W 2025-01-05 19:11:39,852] Trial 87 failed with value nan.\n",
            "[W 2025-01-05 19:11:41,003] Trial 88 failed with parameters: {'alpha': 0.0005413505655064415, 'num_iters': 4600} because of the following error: The value nan is not acceptable.\n",
            "[W 2025-01-05 19:11:41,005] Trial 88 failed with value nan.\n",
            "[W 2025-01-05 19:11:42,045] Trial 89 failed with parameters: {'alpha': 0.00019182512066133912, 'num_iters': 4700} because of the following error: The value nan is not acceptable.\n",
            "[W 2025-01-05 19:11:42,045] Trial 89 failed with value nan.\n",
            "[W 2025-01-05 19:11:42,688] Trial 90 failed with parameters: {'alpha': 0.00014957849801137122, 'num_iters': 2800} because of the following error: The value nan is not acceptable.\n",
            "[W 2025-01-05 19:11:42,689] Trial 90 failed with value nan.\n",
            "[W 2025-01-05 19:11:43,347] Trial 91 failed with parameters: {'alpha': 0.00032335111315137053, 'num_iters': 2800} because of the following error: The value nan is not acceptable.\n",
            "[W 2025-01-05 19:11:43,347] Trial 91 failed with value nan.\n",
            "[W 2025-01-05 19:11:44,053] Trial 92 failed with parameters: {'alpha': 0.0008117321056319385, 'num_iters': 2800} because of the following error: The value nan is not acceptable.\n",
            "[W 2025-01-05 19:11:44,053] Trial 92 failed with value nan.\n",
            "[W 2025-01-05 19:11:44,772] Trial 93 failed with parameters: {'alpha': 0.0007107861875540374, 'num_iters': 2800} because of the following error: The value nan is not acceptable.\n",
            "[W 2025-01-05 19:11:44,773] Trial 93 failed with value nan.\n",
            "[W 2025-01-05 19:11:45,931] Trial 94 failed with parameters: {'alpha': 0.000979274337214716, 'num_iters': 4600} because of the following error: The value nan is not acceptable.\n",
            "[W 2025-01-05 19:11:45,932] Trial 94 failed with value nan.\n",
            "[W 2025-01-05 19:11:46,611] Trial 95 failed with parameters: {'alpha': 0.0006703638199485247, 'num_iters': 2800} because of the following error: The value nan is not acceptable.\n",
            "[W 2025-01-05 19:11:46,612] Trial 95 failed with value nan.\n",
            "[W 2025-01-05 19:11:47,773] Trial 96 failed with parameters: {'alpha': 0.000815351789188923, 'num_iters': 4700} because of the following error: The value nan is not acceptable.\n",
            "[W 2025-01-05 19:11:47,774] Trial 96 failed with value nan.\n",
            "[W 2025-01-05 19:11:48,856] Trial 97 failed with parameters: {'alpha': 0.0005107605527547974, 'num_iters': 4600} because of the following error: The value nan is not acceptable.\n",
            "[W 2025-01-05 19:11:48,856] Trial 97 failed with value nan.\n",
            "[W 2025-01-05 19:11:49,852] Trial 98 failed with parameters: {'alpha': 0.00023319771159507004, 'num_iters': 4600} because of the following error: The value nan is not acceptable.\n",
            "[W 2025-01-05 19:11:49,853] Trial 98 failed with value nan.\n",
            "[W 2025-01-05 19:11:50,976] Trial 99 failed with parameters: {'alpha': 0.0002707717644017589, 'num_iters': 4900} because of the following error: The value nan is not acceptable.\n",
            "[W 2025-01-05 19:11:50,977] Trial 99 failed with value nan.\n"
          ]
        },
        {
          "name": "stdout",
          "output_type": "stream",
          "text": [
            "Best parameters: {'alpha': 1.3852582629760839e-05, 'num_iters': 3000}\n"
          ]
        }
      ],
      "source": [
        "import optuna\n",
        "import numpy as np\n",
        "\n",
        "def objective(trial):\n",
        "    alpha = trial.suggest_float(\"alpha\", 1e-10, 1e-3, log=True)\n",
        "    num_iters = trial.suggest_int(\"num_iters\", 100, 5000, step=100)\n",
        "\n",
        "    initial_theta = np.zeros((3, 1))\n",
        "    J, _, _ = gradient_descent(X, Y, initial_theta, alpha, num_iters)\n",
        "    return J\n",
        "\n",
        "study = optuna.create_study(direction=\"minimize\")\n",
        "study.optimize(objective, n_trials=100)\n",
        "best_params = study.best_params\n",
        "print(f\"Best parameters: {best_params}\")"
      ]
    },
    {
      "cell_type": "code",
      "execution_count": 21,
      "metadata": {},
      "outputs": [
        {
          "name": "stderr",
          "output_type": "stream",
          "text": [
            "C:\\Users\\yveem\\AppData\\Local\\Temp\\ipykernel_10020\\2987393730.py:2: ExperimentalWarning: plot_optimization_history is experimental (supported from v2.2.0). The interface can change in the future.\n",
            "  optuna.visualization.matplotlib.plot_optimization_history(study)\n",
            "C:\\Users\\yveem\\AppData\\Local\\Temp\\ipykernel_10020\\2987393730.py:3: ExperimentalWarning: plot_param_importances is experimental (supported from v2.2.0). The interface can change in the future.\n",
            "  optuna.visualization.matplotlib.plot_param_importances(study)\n",
            "[W 2025-01-05 19:11:51,195] Trial 53 is omitted in visualization because its objective value is inf or nan.\n"
          ]
        },
        {
          "data": {
            "image/png": "[encoded data removed]",
            "text/plain": [
              "<Figure size 640x480 with 1 Axes>"
            ]
          },
          "metadata": {},
          "output_type": "display_data"
        },
        {
          "data": {
            "image/png": "[encoded data removed]",
            "text/plain": [
              "<Figure size 640x480 with 1 Axes>"
            ]
          },
          "metadata": {},
          "output_type": "display_data"
        }
      ],
      "source": [
        "# Plot the optimization history\n",
        "optuna.visualization.matplotlib.plot_optimization_history(study)\n",
        "optuna.visualization.matplotlib.plot_param_importances(study)\n",
        "plt.show()"
      ]
    },
    {
      "cell_type": "code",
      "execution_count": 22,
      "metadata": {},
      "outputs": [
        {
          "name": "stdout",
          "output_type": "stream",
          "text": [
            "The cost after training is 0.52105918.\n",
            "The resulting vector of weights is [np.float64(-0.00113689), np.float64(0.0082905), np.float64(-0.00906061)]\n"
          ]
        }
      ],
      "source": [
        "J, J_history, theta = gradient_descent(X, Y, np.zeros((3, 1)), best_params[\"alpha\"], best_params[\"num_iters\"])\n",
        "print(f\"The cost after training is {J:.8f}.\")\n",
        "print(f\"The resulting vector of weights is {[round(t, 8) for t in np.squeeze(theta)]}\")"
      ]
    },
    {
      "cell_type": "code",
      "execution_count": 23,
      "metadata": {},
      "outputs": [
        {
          "data": {
            "image/png": "[encoded data removed]",
            "text/plain": [
              "<Figure size 640x480 with 1 Axes>"
            ]
          },
          "metadata": {},
          "output_type": "display_data"
        }
      ],
      "source": [
        "plot_error_history(J_history)"
      ]
    },
    {
      "cell_type": "markdown",
      "metadata": {
        "id": "DYCurmAThxJZ"
      },
      "source": [
        "#### **Predictions**\n",
        "\n",
        "##### Given a tweet, what is the probability of being a disaster description?"
      ]
    },
    {
      "cell_type": "code",
      "execution_count": 24,
      "metadata": {
        "id": "eWHhreMBg5Jl"
      },
      "outputs": [],
      "source": [
        "def predict_tweet(tweet, freqs, theta):\n",
        "    x = extract_features(tweet,freqs)\n",
        "    y_pred = sigmoid(np.dot(x,theta))\n",
        "    return y_pred"
      ]
    },
    {
      "cell_type": "code",
      "execution_count": 25,
      "metadata": {
        "colab": {
          "base_uri": "https://localhost:8080/"
        },
        "id": "fWgEm3n8hOCT",
        "outputId": "88184cfd-69af-48b7-9b63-d4167b33d317"
      },
      "outputs": [
        {
          "name": "stdout",
          "output_type": "stream",
          "text": [
            "The expected output is [[0.91823684]]\n"
          ]
        }
      ],
      "source": [
        "my_tweet = \"\"\"\n",
        "For those who have been waiting for this scene...\n",
        "\n",
        "Now, a mass exodus of settlers from northern occupied Palestine have left their homes burning and are fleeing.\n",
        "\"\"\"\n",
        "p = predict_tweet(my_tweet, freqs, theta)\n",
        "print(\"The expected output is\", p)"
      ]
    },
    {
      "cell_type": "code",
      "execution_count": 26,
      "metadata": {},
      "outputs": [
        {
          "name": "stdout",
          "output_type": "stream",
          "text": [
            "The expected output is [[0.08967865]]\n"
          ]
        }
      ],
      "source": [
        "my_tweet = \"\"\"\n",
        "My life is good now that I found you! I'm happy with u.\n",
        "\"\"\"\n",
        "p = predict_tweet(my_tweet, freqs, theta)\n",
        "print(\"The expected output is\", p)"
      ]
    },
    {
      "cell_type": "code",
      "execution_count": 27,
      "metadata": {
        "id": "unNgLXdFqyPr"
      },
      "outputs": [],
      "source": [
        "preds = []\n",
        "ids = []\n",
        "for _, row in df_test.iterrows():\n",
        "  tweet = row[\"text\"]\n",
        "  ids.append(row[\"id\"])\n",
        "  if predict_tweet(tweet, freqs, theta) > 0.5:\n",
        "    preds.append(1)\n",
        "  else:\n",
        "    preds.append(0)"
      ]
    },
    {
      "cell_type": "code",
      "execution_count": 28,
      "metadata": {
        "id": "WBnjdcD0rG6_"
      },
      "outputs": [],
      "source": [
        "df_submit = pd.DataFrame({\"id\": ids, \"target\": preds})"
      ]
    },
    {
      "cell_type": "code",
      "execution_count": 29,
      "metadata": {
        "colab": {
          "base_uri": "https://localhost:8080/",
          "height": 206
        },
        "id": "QUh7CLW5udol",
        "outputId": "396d01f7-bc5d-4bba-f496-bed9911cb48d"
      },
      "outputs": [
        {
          "data": {
            "text/html": [
              "<div>\n",
              "<style scoped>\n",
              "    .dataframe tbody tr th:only-of-type {\n",
              "        vertical-align: middle;\n",
              "    }\n",
              "\n",
              "    .dataframe tbody tr th {\n",
              "        vertical-align: top;\n",
              "    }\n",
              "\n",
              "    .dataframe thead th {\n",
              "        text-align: right;\n",
              "    }\n",
              "</style>\n",
              "<table border=\"1\" class=\"dataframe\">\n",
              "  <thead>\n",
              "    <tr style=\"text-align: right;\">\n",
              "      <th></th>\n",
              "      <th>id</th>\n",
              "      <th>target</th>\n",
              "    </tr>\n",
              "  </thead>\n",
              "  <tbody>\n",
              "    <tr>\n",
              "      <th>0</th>\n",
              "      <td>0</td>\n",
              "      <td>1</td>\n",
              "    </tr>\n",
              "    <tr>\n",
              "      <th>1</th>\n",
              "      <td>2</td>\n",
              "      <td>0</td>\n",
              "    </tr>\n",
              "    <tr>\n",
              "      <th>2</th>\n",
              "      <td>3</td>\n",
              "      <td>1</td>\n",
              "    </tr>\n",
              "    <tr>\n",
              "      <th>3</th>\n",
              "      <td>9</td>\n",
              "      <td>1</td>\n",
              "    </tr>\n",
              "    <tr>\n",
              "      <th>4</th>\n",
              "      <td>11</td>\n",
              "      <td>1</td>\n",
              "    </tr>\n",
              "  </tbody>\n",
              "</table>\n",
              "</div>"
            ],
            "text/plain": [
              "   id  target\n",
              "0   0       1\n",
              "1   2       0\n",
              "2   3       1\n",
              "3   9       1\n",
              "4  11       1"
            ]
          },
          "execution_count": 29,
          "metadata": {},
          "output_type": "execute_result"
        }
      ],
      "source": [
        "df_submit.head()"
      ]
    },
    {
      "cell_type": "code",
      "execution_count": 30,
      "metadata": {},
      "outputs": [],
      "source": [
        "df_submit.to_csv(\"./results/logistic_regression.csv\", index=False)"
      ]
    }
  ],
  "metadata": {
    "colab": {
      "provenance": []
    },
    "kernelspec": {
      "display_name": "nlp",
      "language": "python",
      "name": "python3"
    },
    "language_info": {
      "codemirror_mode": {
        "name": "ipython",
        "version": 3
      },
      "file_extension": ".py",
      "mimetype": "text/x-python",
      "name": "python",
      "nbconvert_exporter": "python",
      "pygments_lexer": "ipython3",
      "version": "3.10.16"
    }
  },
  "nbformat": 4,
  "nbformat_minor": 0
}
